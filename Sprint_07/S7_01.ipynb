{
 "cells": [
  {
   "cell_type": "markdown",
   "metadata": {},
   "source": [
    "### Sprint 7. Python: data and control structures"
   ]
  },
  {
   "cell_type": "markdown",
   "metadata": {},
   "source": [
    "In this sprint I will solve some everyday problems using data and control structures in Python."
   ]
  },
  {
   "cell_type": "markdown",
   "metadata": {},
   "source": [
    "Exercises\n",
    "\n",
    "The client of the company you work for asks for a list of very simple programs, but which would facilitate many processes. However, the department is very short of time, so they ask you to do the programming."
   ]
  },
  {
   "cell_type": "markdown",
   "metadata": {},
   "source": [
    "LEVEL 1 EXERCISE 1\n",
    "\n",
    "Body mass index calculator\n",
    "\n",
    "Write a function that calculates the BMI entered by the user, that is, whoever executes it will have to enter this data. You can get more information about its calculation at:\n",
    "\n",
    "[BMI body mass index what is it and how is it calculated](https://muysalud.com/salud/indice-de-masa-corporal-imc-que-es-y-como-se-calcula/)\n",
    "\n",
    "The function must classify the result in its respective categories"
   ]
  },
  {
   "cell_type": "code",
   "execution_count": 11,
   "metadata": {},
   "outputs": [
    {
     "ename": "ValueError",
     "evalue": "could not convert string to float: '1,63'",
     "output_type": "error",
     "traceback": [
      "\u001b[0;31m---------------------------------------------------------------------------\u001b[0m",
      "\u001b[0;31mValueError\u001b[0m                                Traceback (most recent call last)",
      "Cell \u001b[0;32mIn[11], line 5\u001b[0m\n\u001b[1;32m      2\u001b[0m     \u001b[38;5;28;01mreturn\u001b[39;00m weight_kg \u001b[38;5;241m/\u001b[39m height_m\u001b[38;5;241m*\u001b[39m\u001b[38;5;241m*\u001b[39m\u001b[38;5;241m2\u001b[39m\n\u001b[1;32m      4\u001b[0m weight \u001b[38;5;241m=\u001b[39m \u001b[38;5;28mint\u001b[39m(\u001b[38;5;28minput\u001b[39m(\u001b[38;5;124m'\u001b[39m\u001b[38;5;124mEnter your weight (kg):\u001b[39m\u001b[38;5;124m'\u001b[39m))\n\u001b[0;32m----> 5\u001b[0m height \u001b[38;5;241m=\u001b[39m \u001b[38;5;28;43mfloat\u001b[39;49m\u001b[43m(\u001b[49m\u001b[38;5;28;43minput\u001b[39;49m\u001b[43m(\u001b[49m\u001b[38;5;124;43m'\u001b[39;49m\u001b[38;5;124;43mEnter your height (m):\u001b[39;49m\u001b[38;5;124;43m'\u001b[39;49m\u001b[43m)\u001b[49m\u001b[43m)\u001b[49m\n\u001b[1;32m      7\u001b[0m x \u001b[38;5;241m=\u001b[39m bmi_calc(weight, height)\n\u001b[1;32m      8\u001b[0m \u001b[38;5;28mprint\u001b[39m(x)\n",
      "\u001b[0;31mValueError\u001b[0m: could not convert string to float: '1,63'"
     ]
    }
   ],
   "source": [
    "def bmi_calc(weight_kg, height_m):\n",
    "    return round(weight_kg / height_m**2, 2)\n",
    "\n",
    "weight = float(input('enter your weight (kg):'))\n",
    "height = float(input('enter your height (m):'))\n",
    "\n",
    "bmi = bmi_calc(weight, height)\n",
    "print('your BMI is ', bmi)"
   ]
  },
  {
   "cell_type": "code",
   "execution_count": 32,
   "metadata": {},
   "outputs": [],
   "source": [
    "def bmi_calc(weight_kg, height_m):\n",
    "    return round(weight_kg / height_m**2, 2)"
   ]
  },
  {
   "cell_type": "code",
   "execution_count": 33,
   "metadata": {},
   "outputs": [],
   "source": [
    "def convert_to_float(user_input):\n",
    "    try:\n",
    "        user_input = user_input.replace(',', '.')\n",
    "        return float(user_input)\n",
    "    except ValueError:\n",
    "        print('error 2')\n",
    "        sys.exit('error 3')"
   ]
  },
  {
   "cell_type": "code",
   "execution_count": 34,
   "metadata": {},
   "outputs": [],
   "source": [
    "try:\n",
    "    weight = input('enter your weight (kg):')\n",
    "    weight = convert_to_float(weight)\n",
    "    if weight <= 0:\n",
    "        print('\\nenter a value greater than zero')\n",
    "    elif weight > 700:\n",
    "        print('\\nenter a value less than 700 кг')\n",
    "except ValueError:\n",
    "    print('\\nerror 1')\n"
   ]
  },
  {
   "cell_type": "code",
   "execution_count": 35,
   "metadata": {},
   "outputs": [],
   "source": [
    "try:\n",
    "    height = input('enter your height (m):')\n",
    "    height = convert_to_float(height)\n",
    "    if height <= 0:\n",
    "        print('\\nenter a value greater than zero')\n",
    "    elif height > 3:\n",
    "        print('\\nenter a value less than 3 m')\n",
    "except ValueError:\n",
    "    print('\\nerror 4')\n"
   ]
  },
  {
   "cell_type": "code",
   "execution_count": 36,
   "metadata": {},
   "outputs": [
    {
     "name": "stdout",
     "output_type": "stream",
     "text": [
      "your BMI is  22.89\n"
     ]
    }
   ],
   "source": [
    "bmi = bmi_calc(weight, height)\n",
    "print('your BMI is ', bmi)"
   ]
  },
  {
   "cell_type": "code",
   "execution_count": 37,
   "metadata": {},
   "outputs": [],
   "source": [
    "def bmi_calc(weight_kg, height_m):\n",
    "    return round(weight_kg / height_m**2, 2)\n",
    "\n",
    "def convert_to_float(user_input):\n",
    "    try:\n",
    "        user_input = user_input.replace(',', '.')\n",
    "        return float(user_input)\n",
    "    except ValueError:\n",
    "        print('error 2')\n",
    "        sys.exit('error 3')\n",
    "\n",
    "try:\n",
    "    weight = input('enter your weight (kg):')\n",
    "    weight = convert_to_float(weight)\n",
    "    if weight <= 0:\n",
    "        print('\\nenter a value greater than zero')\n",
    "    elif weight > 700:\n",
    "        print('\\nenter a value less than 700 кг')\n",
    "except ValueError:\n",
    "    print('\\nerror 1')\n",
    "\n",
    "try:\n",
    "    height = input('enter your height (m):')\n",
    "    height = convert_to_float(height)\n",
    "    if height <= 0:\n",
    "        print('\\nenter a value greater than zero')\n",
    "    elif height > 3:\n",
    "        print('\\nenter a value less than 3 m')\n",
    "except ValueError:\n",
    "    print('\\nerror 4')\n",
    "\n",
    "bmi = bmi_calc(weight, height)\n",
    "print('your BMI is ', bmi)"
   ]
  }
 ],
 "metadata": {
  "kernelspec": {
   "display_name": "Python 3.12.4 64-bit",
   "language": "python",
   "name": "python3"
  },
  "language_info": {
   "codemirror_mode": {
    "name": "ipython",
    "version": 3
   },
   "file_extension": ".py",
   "mimetype": "text/x-python",
   "name": "python",
   "nbconvert_exporter": "python",
   "pygments_lexer": "ipython3",
   "version": "3.13.0"
  },
  "orig_nbformat": 4,
  "vscode": {
   "interpreter": {
    "hash": "aee8b7b246df8f9039afb4144a1f6fd8d2ca17a180786b69acc140d282b71a49"
   }
  }
 },
 "nbformat": 4,
 "nbformat_minor": 2
}
