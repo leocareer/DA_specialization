{
 "cells": [
  {
   "cell_type": "markdown",
   "metadata": {},
   "source": [
    "### Sprint 7. Python: data and control structures"
   ]
  },
  {
   "cell_type": "markdown",
   "metadata": {},
   "source": [
    "In this sprint I will solve some everyday problems using data and control structures in Python."
   ]
  },
  {
   "cell_type": "markdown",
   "metadata": {},
   "source": [
    "Exercises\n",
    "\n",
    "The client of the company you work for asks for a list of very simple programs, but which would facilitate many processes. However, the department is very short of time, so they ask you to do the programming."
   ]
  },
  {
   "cell_type": "markdown",
   "metadata": {},
   "source": [
    "LEVEL 1 EXERCISE 1\n",
    "\n",
    "Body mass index calculator\n",
    "\n",
    "Write a function that calculates the BMI entered by the user, that is, whoever executes it will have to enter this data. You can get more information about its calculation at:\n",
    "\n",
    "[BMI body mass index what is it and how is it calculated](https://muysalud.com/salud/indice-de-masa-corporal-imc-que-es-y-como-se-calcula/)\n",
    "\n",
    "The function must classify the result in its respective categories"
   ]
  },
  {
   "cell_type": "code",
   "execution_count": 1,
   "metadata": {},
   "outputs": [
    {
     "name": "stdout",
     "output_type": "stream",
     "text": [
      "your BMI is  20.7\n"
     ]
    }
   ],
   "source": [
    "def bmi_calc(weight_kg, height_m):\n",
    "    return round(weight_kg / height_m**2, 2)\n",
    "\n",
    "def convert_to_float(user_input):\n",
    "    try:\n",
    "        user_input = user_input.replace(',', '.')\n",
    "        return float(user_input)\n",
    "    except ValueError:\n",
    "        print('error 2')\n",
    "        sys.exit('error 3')\n",
    "\n",
    "try:\n",
    "    weight = input('enter your weight (kg):')\n",
    "    weight = convert_to_float(weight)\n",
    "    if weight <= 0:\n",
    "        print('\\nenter a value greater than zero')\n",
    "    elif weight > 700:\n",
    "        print('\\nenter a value less than 700 кг')\n",
    "except ValueError:\n",
    "    print('\\nerror 1')\n",
    "\n",
    "try:\n",
    "    height = input('enter your height (m):')\n",
    "    height = convert_to_float(height)\n",
    "    if height <= 0:\n",
    "        print('\\nenter a value greater than zero')\n",
    "    elif height > 3:\n",
    "        print('\\nenter a value less than 3 m')\n",
    "except ValueError:\n",
    "    print('\\nerror 4')\n",
    "\n",
    "bmi = bmi_calc(weight, height)\n",
    "print('your BMI is ', bmi)"
   ]
  }
 ],
 "metadata": {
  "kernelspec": {
   "display_name": "Python 3.12.4 64-bit",
   "language": "python",
   "name": "python3"
  },
  "language_info": {
   "codemirror_mode": {
    "name": "ipython",
    "version": 3
   },
   "file_extension": ".py",
   "mimetype": "text/x-python",
   "name": "python",
   "nbconvert_exporter": "python",
   "pygments_lexer": "ipython3",
   "version": "3.13.0"
  },
  "orig_nbformat": 4,
  "vscode": {
   "interpreter": {
    "hash": "aee8b7b246df8f9039afb4144a1f6fd8d2ca17a180786b69acc140d282b71a49"
   }
  }
 },
 "nbformat": 4,
 "nbformat_minor": 2
}
