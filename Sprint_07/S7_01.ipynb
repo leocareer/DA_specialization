{
 "cells": [
  {
   "cell_type": "markdown",
   "metadata": {},
   "source": [
    "### Sprint 7. Python: data and control structures"
   ]
  },
  {
   "cell_type": "markdown",
   "metadata": {},
   "source": [
    "In this sprint I will solve some everyday problems using data and control structures in Python."
   ]
  },
  {
   "cell_type": "markdown",
   "metadata": {},
   "source": [
    "Exercises\n",
    "\n",
    "The client of the company you work for asks for a list of very simple programs, but which would facilitate many processes. However, the department is very short of time, so they ask you to do the programming."
   ]
  },
  {
   "cell_type": "markdown",
   "metadata": {},
   "source": [
    "LEVEL 1 EXERCISE 1\n",
    "\n",
    "Body mass index calculator\n",
    "\n",
    "Write a function that calculates the BMI entered by the user, that is, whoever executes it will have to enter this data. You can get more information about its calculation at:\n",
    "\n",
    "[BMI body mass index what is it and how is it calculated](https://muysalud.com/salud/indice-de-masa-corporal-imc-que-es-y-como-se-calcula/)\n",
    "\n",
    "The function must classify the result in its respective categories"
   ]
  },
  {
   "cell_type": "code",
   "execution_count": 1,
   "metadata": {},
   "outputs": [
    {
     "name": "stdout",
     "output_type": "stream",
     "text": [
      "bmi = 19.57\n",
      "normal weight\n"
     ]
    }
   ],
   "source": [
    "import sys\n",
    "\n",
    "# calculate BMP\n",
    "def bmi_calculation(weight_kg, height_m):\n",
    "    return round(weight_kg / height_m**2, 2)\n",
    "\n",
    "# function: input and validate\n",
    "# prompt: prompt text for the user\n",
    "# min_value: minimum acceptable value\n",
    "# max_value: maximum acceptable value\n",
    "# return: validated float input\n",
    "def get_valid_input(prompt, min_value, max_value):\n",
    "    while True:\n",
    "        try:\n",
    "            user_input = input(prompt).replace(',', '.')\n",
    "            value = float(user_input)\n",
    "            if value <= min_value:\n",
    "                print(f'enter a value greater than {min_value}')\n",
    "            elif value > max_value:\n",
    "                print(f'enter a value less than {max_value}')\n",
    "            else:\n",
    "                return value\n",
    "        except ValueError:\n",
    "            print('invalid input, please enter a number')\n",
    "\n",
    "def bmi_classifier(bmp_value):\n",
    "    if bmp_value < 18.5:\n",
    "        return 'underweight'\n",
    "    elif bmp_value < 24.9:\n",
    "        return 'normal weight'\n",
    "    elif bmp_value < 30:\n",
    "        return 'overweight'\n",
    "    else:\n",
    "        return 'obesity'\n",
    "    \n",
    "# get and validate inputs\n",
    "weight = get_valid_input('enter your weight (kg): ', 0, 700)\n",
    "height = get_valid_input('enter your height (m): ', 0, 3)\n",
    "\n",
    "# calculate and display BMI\n",
    "bmi = bmi_calculation(weight, height)\n",
    "print(f'bmi = {bmi}')\n",
    "\n",
    "bmi_class = bmi_classifier(bmi)\n",
    "print(bmi_class)"
   ]
  },
  {
   "cell_type": "markdown",
   "metadata": {},
   "source": [
    "LEVEL 1 EXERCISE 2\n",
    "\n",
    "Temperature converter\n",
    "\n",
    "There are several temperature units used in different contexts and regions. The most common are Celsius (°C), Fahrenheit (°F) and Kelvin (K). Other units such as Rankine (°Ra) and Réaumur (°Re) also exist. Select at least 2 converters, so that entering a temperature returns at least two conversions."
   ]
  },
  {
   "cell_type": "code",
   "execution_count": 6,
   "metadata": {},
   "outputs": [
    {
     "name": "stdout",
     "output_type": "stream",
     "text": [
      "t = 13.0\n",
      "units = re\n",
      "t°C = 16.25\n"
     ]
    }
   ],
   "source": [
    "def input_valid_number(prompt):\n",
    "    while True:\n",
    "        try:\n",
    "            user_input = input(prompt).replace(',', '.')\n",
    "            return float(user_input)\n",
    "        except ValueError:\n",
    "            print('invalid input, please enter a number')\n",
    "\n",
    "def input_valid_units(prompt):\n",
    "    units_list = ['c', 'f', 'k', 'ra', 're']\n",
    "    while True:\n",
    "        try:\n",
    "            user_input = input(prompt).lower()\n",
    "            value = str(user_input)\n",
    "            for x in units_list:\n",
    "                if x == value:\n",
    "                    return value\n",
    "                    break\n",
    "        except ValueError:\n",
    "            print('invalid input, please enter C, F, K, Ra or Re')\n",
    "\n",
    "def convert_to_c(units_value, temper_value):\n",
    "    if units_value == 'f':\n",
    "        return round((temper_value - 32) * 5/9, 2)\n",
    "    elif units_value == 'k':\n",
    "        return round(temper_value - 273.15, 2)\n",
    "    elif units_value == 'ra':\n",
    "        return round((temper_value - 491.67) * 5/9, 2)\n",
    "    elif units_value == 're':\n",
    "        return round(temper_value * 5/4, 2)\n",
    "    else:\n",
    "        return round(temper_value, 2)\n",
    "\n",
    "\n",
    "temper_number = input_valid_number('enter temperature (number of degrees)')\n",
    "print(f't = {temper_number}')\n",
    "\n",
    "temper_units = input_valid_units('enter units (C, F, K, Ra, Re)')\n",
    "print(f'units = {temper_units}')\n",
    "\n",
    "temper_c = convert_to_c(temper_units, temper_number)\n",
    "print(f't°C = {temper_c}')"
   ]
  },
  {
   "cell_type": "code",
   "execution_count": null,
   "metadata": {},
   "outputs": [],
   "source": []
  }
 ],
 "metadata": {
  "kernelspec": {
   "display_name": "Python 3.12.4 64-bit",
   "language": "python",
   "name": "python3"
  },
  "language_info": {
   "codemirror_mode": {
    "name": "ipython",
    "version": 3
   },
   "file_extension": ".py",
   "mimetype": "text/x-python",
   "name": "python",
   "nbconvert_exporter": "python",
   "pygments_lexer": "ipython3",
   "version": "3.13.0"
  },
  "orig_nbformat": 4,
  "vscode": {
   "interpreter": {
    "hash": "aee8b7b246df8f9039afb4144a1f6fd8d2ca17a180786b69acc140d282b71a49"
   }
  }
 },
 "nbformat": 4,
 "nbformat_minor": 2
}
