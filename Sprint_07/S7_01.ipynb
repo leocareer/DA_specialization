{
 "cells": [
  {
   "cell_type": "markdown",
   "metadata": {},
   "source": [
    "### Sprint 7. Python: data and control structures"
   ]
  },
  {
   "cell_type": "markdown",
   "metadata": {},
   "source": [
    "In this sprint I will solve some everyday problems using data and control structures in Python."
   ]
  },
  {
   "cell_type": "markdown",
   "metadata": {},
   "source": [
    "Exercises\n",
    "\n",
    "The client of the company you work for asks for a list of very simple programs, but which would facilitate many processes. However, the department is very short of time, so they ask you to do the programming."
   ]
  },
  {
   "cell_type": "markdown",
   "metadata": {},
   "source": [
    "LEVEL 1 EXERCISE 1\n",
    "\n",
    "Body mass index calculator\n",
    "\n",
    "Write a function that calculates the BMI entered by the user, that is, whoever executes it will have to enter this data. You can get more information about its calculation at:\n",
    "\n",
    "[BMI body mass index what is it and how is it calculated](https://muysalud.com/salud/indice-de-masa-corporal-imc-que-es-y-como-se-calcula/)\n",
    "\n",
    "The function must classify the result in its respective categories"
   ]
  },
  {
   "cell_type": "code",
   "execution_count": 1,
   "metadata": {},
   "outputs": [
    {
     "name": "stdout",
     "output_type": "stream",
     "text": [
      "bmi = 19.57\n",
      "normal weight\n"
     ]
    }
   ],
   "source": [
    "import sys\n",
    "\n",
    "# calculate BMP\n",
    "def bmi_calculation(weight_kg, height_m):\n",
    "    return round(weight_kg / height_m**2, 2)\n",
    "\n",
    "# function: input and validate\n",
    "# prompt: prompt text for the user\n",
    "# min_value: minimum acceptable value\n",
    "# max_value: maximum acceptable value\n",
    "# return: validated float input\n",
    "def get_valid_input(prompt, min_value, max_value):\n",
    "    while True:\n",
    "        try:\n",
    "            user_input = input(prompt).replace(',', '.')\n",
    "            value = float(user_input)\n",
    "            if value <= min_value:\n",
    "                print(f'enter a value greater than {min_value}')\n",
    "            elif value > max_value:\n",
    "                print(f'enter a value less than {max_value}')\n",
    "            else:\n",
    "                return value\n",
    "        except ValueError:\n",
    "            print('invalid input, please enter a number')\n",
    "\n",
    "def bmi_classifier(bmp_value):\n",
    "    if bmp_value < 18.5:\n",
    "        return 'underweight'\n",
    "    elif bmp_value < 24.9:\n",
    "        return 'normal weight'\n",
    "    elif bmp_value < 30:\n",
    "        return 'overweight'\n",
    "    else:\n",
    "        return 'obesity'\n",
    "    \n",
    "# get and validate inputs\n",
    "weight = get_valid_input('enter your weight (kg): ', 0, 700)\n",
    "height = get_valid_input('enter your height (m): ', 0, 3)\n",
    "\n",
    "# calculate and display BMI\n",
    "bmi = bmi_calculation(weight, height)\n",
    "print(f'bmi = {bmi}')\n",
    "\n",
    "bmi_class = bmi_classifier(bmi)\n",
    "print(bmi_class)"
   ]
  },
  {
   "cell_type": "markdown",
   "metadata": {},
   "source": [
    "LEVEL 1 EXERCISE 2\n",
    "\n",
    "Temperature converter\n",
    "\n",
    "There are several temperature units used in different contexts and regions. The most common are Celsius (°C), Fahrenheit (°F) and Kelvin (K). Other units such as Rankine (°Ra) and Réaumur (°Re) also exist. Select at least 2 converters, so that entering a temperature returns at least two conversions."
   ]
  },
  {
   "cell_type": "code",
   "execution_count": 10,
   "metadata": {},
   "outputs": [
    {
     "name": "stdout",
     "output_type": "stream",
     "text": [
      "t°C = -100.00\n",
      "t°F = -148.00\n",
      "t°K = 173.15\n",
      "t°Ra = 311.67\n",
      "t°Re = -80.00\n"
     ]
    }
   ],
   "source": [
    "'''\n",
    "function: input and validate of a number\n",
    "promt: text for the user\n",
    "return: validated float input\n",
    "'''\n",
    "def input_valid_number(prompt):\n",
    "    while True:\n",
    "        try:\n",
    "            user_input = input(prompt).replace(',', '.')\n",
    "            return float(user_input)\n",
    "        except ValueError:\n",
    "            print('invalid input, please enter a number')\n",
    "\n",
    "'''\n",
    "function: input of a unit and validate with a list\n",
    "promt: text for the user\n",
    "units_list: list of units for validation\n",
    "return: validated string input\n",
    "'''\n",
    "def input_valid_units(prompt, units_list):\n",
    "    while True:\n",
    "        try:\n",
    "            user_input = input(prompt).lower()\n",
    "            units_list = list(map(lambda x: x.lower(), units_list))\n",
    "            value = str(user_input)\n",
    "            for x in units_list:\n",
    "                if x == value:\n",
    "                    return value\n",
    "                    break\n",
    "        except ValueError:\n",
    "            print('invalid input, please enter C, F, K, Ra or Re')\n",
    "\n",
    "'''\n",
    "function: scale definition and conversion to degrees Celsius\n",
    "units_value: variable containing a unit of temperature measurement\n",
    "temper_value: variable containing temperature number\n",
    "return: temperature number in degrees Celsius\n",
    "'''\n",
    "def convert_to_c(units_value, temper_value):\n",
    "    if units_value == 'f':\n",
    "        return (temper_value - 32) * 5/9\n",
    "    elif units_value == 'k':\n",
    "        return temper_value - 273.15\n",
    "    elif units_value == 'ra':\n",
    "        return (temper_value - 491.67) * 5/9\n",
    "    elif units_value == 're':\n",
    "        return temper_value * 5/4\n",
    "    else:\n",
    "        return temper_value\n",
    "\n",
    "'''\n",
    "function: conversion from degrees celsius to other degrees\n",
    "temper_value: temperature number in degrees Celsius\n",
    "return: list of numbers of all temperatures in order: c, f, k, ra, re\n",
    "'''\n",
    "def convert_from_c(temper_value):\n",
    "    values_list = [temper_value]\n",
    "    values_list.append(temper_value * (9/5) + 32)\n",
    "    values_list.append(temper_value + 273.15)\n",
    "    values_list.append((temper_value + 273.15) * 9/5)\n",
    "    values_list.append(temper_value * 0.8)\n",
    "    return values_list\n",
    "\n",
    "'''\n",
    "for changes: the order of the list elements depends on the convert_from_c function,\n",
    "you can add an element at the end of the list and add a line to convert_from_c,\n",
    "to change the order and values ​​of the first five elements, make changes to the convert_from_c function\n",
    "'''\n",
    "temper_units_list = ['C', 'F', 'K', 'Ra', 'Re']\n",
    "\n",
    "temper_number = input_valid_number('enter temperature (number of degrees)')\n",
    "temper_units = input_valid_units('enter units (C, F, K, Ra, Re)', temper_units_list)\n",
    "\n",
    "temper_c = convert_to_c(temper_units, temper_number)\n",
    "\n",
    "temper_numbers_list = list(map(lambda x: \"{:.2f}\".format(round(x, 2)), convert_from_c(temper_c)))\n",
    "\n",
    "for index, number in enumerate(temper_numbers_list):\n",
    "     print(f't°{temper_units_list[index]} = {number}')"
   ]
  },
  {
   "cell_type": "markdown",
   "metadata": {},
   "source": [
    "LEVEL 1 EXERCISE 3\n",
    "\n",
    "Word count of a text.\n",
    "\n",
    "Write a function that, given a text, shows the number of times each word appears."
   ]
  },
  {
   "cell_type": "code",
   "execution_count": 18,
   "metadata": {},
   "outputs": [
    {
     "name": "stdout",
     "output_type": "stream",
     "text": [
      "tree banana? garden? tree! banana garden, apple. garden grape. sweet, grape, garden! garden garden orange? orange. orange. grape. garden! sweet!\n"
     ]
    }
   ],
   "source": [
    "import random\n",
    "\n",
    "def generate_random_text_from_list(word_list, num_words):\n",
    "    words = random.choices(word_list, k=num_words)\n",
    "    punctuation = random.choices(['', '.', ',', '!', '?'], k=num_words)\n",
    "    return ' '.join(word + punct for word, punct in zip(words, punctuation))\n",
    "\n",
    "words_for_text = ['apple', 'banana', 'orange', 'grape', 'fruit', 'tree', 'garden', 'sweet']\n",
    "\n",
    "text = generate_random_text_from_list(words_for_text, 20)\n",
    "print(text)"
   ]
  },
  {
   "cell_type": "code",
   "execution_count": 14,
   "metadata": {},
   "outputs": [
    {
     "name": "stdout",
     "output_type": "stream",
     "text": [
      "tree banana? garden? tree! banana garden, apple. garden Grape. Sweet, grape, Garden! garden garden orange? orange. orange. grape. garden! sweet!\n",
      "tree banana garden tree banana garden apple garden grape sweet grape garden garden garden orange orange orange grape garden sweet\n",
      "['tree', 'banana', 'garden', 'tree', 'banana', 'garden', 'apple', 'garden', 'grape', 'sweet', 'grape', 'garden', 'garden', 'garden', 'orange', 'orange', 'orange', 'grape', 'garden', 'sweet']\n",
      "{'tree': 2, 'banana': 2, 'garden': 7, 'apple': 1, 'grape': 3, 'sweet': 2, 'orange': 3}\n",
      "{   'apple': 1,\n",
      "    'banana': 2,\n",
      "    'garden': 7,\n",
      "    'grape': 3,\n",
      "    'orange': 3,\n",
      "    'sweet': 2,\n",
      "    'tree': 2}\n",
      "{'tree': 2, 'banana': 2, 'garden': 7, 'apple': 1, 'grape': 3, 'sweet': 2, 'orange': 3}\n"
     ]
    }
   ],
   "source": [
    "def read_file(file_path):\n",
    "    with open(file_path, 'r') as file:\n",
    "        return file.read()\n",
    "\n",
    "a = read_file('l1e3_text.txt')\n",
    "print(a)\n",
    "\n",
    "def clean_text(user_text):\n",
    "    return user_text.replace('.', '').replace(',', '').replace('!', '').replace('?', '').lower()\n",
    "\n",
    "b = clean_text(a)\n",
    "print(b)    \n",
    "\n",
    "def split_into_words(user_text):\n",
    "    word_list = user_text.split()\n",
    "    return word_list\n",
    "\n",
    "d = split_into_words(b)\n",
    "print(d)\n",
    "\n",
    "def count_each_word(user_word_list):\n",
    "    number_each_words = {}\n",
    "    for word in user_word_list:\n",
    "        number_each_words[word] = number_each_words.get(word, 0) + 1\n",
    "    return number_each_words\n",
    "\n",
    "f = count_each_word(d)\n",
    "print(f)\n",
    "\n",
    "import pprint\n",
    "\n",
    "pp = pprint.PrettyPrinter(indent=4)\n",
    "pp.pprint(f)"
   ]
  },
  {
   "cell_type": "code",
   "execution_count": null,
   "metadata": {},
   "outputs": [],
   "source": [
    "def word_calculator(file_path):\n",
    "    cleaned_text = clean_text(text)\n",
    "    words = split_into_words(cleaned_text)\n",
    "    word_counts = count_each_word(words)\n",
    "    return word_counts\n",
    "\n",
    "word_calculator('l1e3_text.txt')"
   ]
  }
 ],
 "metadata": {
  "kernelspec": {
   "display_name": "Python 3.12.4 64-bit",
   "language": "python",
   "name": "python3"
  },
  "language_info": {
   "codemirror_mode": {
    "name": "ipython",
    "version": 3
   },
   "file_extension": ".py",
   "mimetype": "text/x-python",
   "name": "python",
   "nbconvert_exporter": "python",
   "pygments_lexer": "ipython3",
   "version": "3.13.0"
  },
  "orig_nbformat": 4,
  "vscode": {
   "interpreter": {
    "hash": "aee8b7b246df8f9039afb4144a1f6fd8d2ca17a180786b69acc140d282b71a49"
   }
  }
 },
 "nbformat": 4,
 "nbformat_minor": 2
}
