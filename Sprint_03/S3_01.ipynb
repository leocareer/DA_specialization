{
 "cells": [
  {
   "cell_type": "code",
   "execution_count": 7,
   "metadata": {},
   "outputs": [
    {
     "name": "stdout",
     "output_type": "stream",
     "text": [
      "5f7972d647ab04a55ea4daa7c314bdbf\n"
     ]
    }
   ],
   "source": [
    "import os\n",
    "\n",
    "secret_key = os.urandom(16)   # Generate 16-byte key (128 bits)\n",
    "print(secret_key.hex())  # Converting a key to a string format"
   ]
  },
  {
   "cell_type": "code",
   "execution_count": 3,
   "metadata": {},
   "outputs": [],
   "source": [
    "import re\n",
    "from datetime import datetime\n",
    "\n",
    "# Reading the source data file line by line\n",
    "with open('db_data_credit_card_input.sql', 'r') as file:\n",
    "  sql_data = file.readlines()\n",
    "\n",
    "# Function to convert date format from 'MM/DD/YY' to 'YYYY-MM-DD'\n",
    "def convert_date_format(date_str):\n",
    "  try:\n",
    "    old_format_date = datetime.strptime(date_str, '%m/%d/%y')\n",
    "    new_format_date = old_format_date.strftime('%Y-%m-%d')\n",
    "    return new_format_date\n",
    "  except ValueError:\n",
    "    return date_str\n",
    "\n",
    "# Function to convert a string\n",
    "def transform_sql_line(line):\n",
    "  pattern = r\"VALUES\\s*\\(\\s*'([^']*)'\\s*,\\s*'([^']*)'\\s*,\\s*'([^']*)'\\s*,\\s*'([^']*)'\\s*,\\s*'([^']*)'\\s*,\\s*'([^']*)'\\s*\\);\"\n",
    "  def replace_values(match):\n",
    "    id = match.group(1)\n",
    "    iban = match.group(2)\n",
    "    pan = match.group(3)\n",
    "    pin = match.group(4)\n",
    "    cvv = match.group(5)\n",
    "    expiring_date = convert_date_format(match.group(6))\n",
    "    return f\"VALUES ('{id}', '{iban}', AES_ENCRYPT('{pan}', @encryption_key), AES_ENCRYPT('{pin}', @encryption_key), AES_ENCRYPT('{cvv}', @encryption_key), '{expiring_date}');\"\n",
    "  new_line = re.sub(pattern, replace_values, line)\n",
    "  return new_line\n",
    "\n",
    "# New file and write lines\n",
    "with open('db_data_credit_card_output.sql', 'w') as file:\n",
    "  for line in sql_data:\n",
    "    new_line = transform_sql_line(line)\n",
    "    file.write(new_line)\n"
   ]
  }
 ],
 "metadata": {
  "kernelspec": {
   "display_name": "Python 3.12.4 64-bit",
   "language": "python",
   "name": "python3"
  },
  "language_info": {
   "codemirror_mode": {
    "name": "ipython",
    "version": 3
   },
   "file_extension": ".py",
   "mimetype": "text/x-python",
   "name": "python",
   "nbconvert_exporter": "python",
   "pygments_lexer": "ipython3",
   "version": "3.12.4"
  },
  "orig_nbformat": 4,
  "vscode": {
   "interpreter": {
    "hash": "aee8b7b246df8f9039afb4144a1f6fd8d2ca17a180786b69acc140d282b71a49"
   }
  }
 },
 "nbformat": 4,
 "nbformat_minor": 2
}
