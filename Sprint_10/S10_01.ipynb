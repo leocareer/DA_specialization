{
 "cells": [
  {
   "cell_type": "markdown",
   "metadata": {},
   "source": [
    "переменные:\n",
    "\n",
    "первичное производство и потребление ископаемой и возобновляемой -\n",
    "SERIE-BALANC-1990-2022-web.xlsx\n",
    "\n",
    "конечное производство ископаемой и возобновляемой -\n",
    "Producción_de_energía_eléctrica.csv\n",
    "\n",
    "конечное потребление ископаемой и возобновляемой -\n",
    "Consumo_final_de_energía_por_tipo.csv\n",
    "\n",
    "выбросы CO2, CH4, N2O -\n",
    "Emissions_de_GEH_a_Catalunya_20250127.csv\n",
    "\n",
    "количество занятых в промышленности (есть только общие данные без разбивки на ископаемую и возобновляемую) - Población_ocupada_por_sectores_de_actividad_y_sexo.csv"
   ]
  }
 ],
 "metadata": {
  "kernelspec": {
   "display_name": "Python 3.12.4 64-bit",
   "language": "python",
   "name": "python3"
  },
  "language_info": {
   "name": "python",
   "version": "3.12.4"
  },
  "orig_nbformat": 4,
  "vscode": {
   "interpreter": {
    "hash": "f1062708a37074d70712b695aadee582e0b0b9f95f45576b5521424137d05fec"
   }
  }
 },
 "nbformat": 4,
 "nbformat_minor": 2
}
